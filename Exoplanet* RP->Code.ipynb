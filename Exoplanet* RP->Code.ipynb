{
 "cells": [
  {
   "cell_type": "code",
   "execution_count": 1,
   "id": "6f622f4f",
   "metadata": {},
   "outputs": [
    {
     "name": "stdout",
     "output_type": "stream",
     "text": [
      "Hello Universe\n"
     ]
    }
   ],
   "source": [
    "print(\"Hello Universe\")"
   ]
  },
  {
   "cell_type": "markdown",
   "id": "3ad92bbe-e48a-4042-a5a9-d87f7f023732",
   "metadata": {},
   "source": [
    "___Download the eccentricity distribution of exoplanets from the exoplanet catalog http://exoplanet.eu/catalog/. Look for the column titled e, which denotes eccentricity. Draw the histogram of this distribution. Then redraw the same histogram after Gaussianization of  the distribution using Box-transformation either using scipy.stats.boxcox or from first principles using the equations  in arXiv:1508.00931. Note that exoplanets without eccentricity data can be ignored.\n",
    "After Box-cox transformation you should get a plot similar to the right side of figure 1 in arXiv:1508.00931.___"
   ]
  },
  {
   "cell_type": "code",
   "execution_count": 2,
   "id": "1d5afe19",
   "metadata": {},
   "outputs": [],
   "source": [
    "import matplotlib.pyplot as plt\n",
    "import numpy as np\n",
    "import pandas as pd"
   ]
  },
  {
   "cell_type": "code",
   "execution_count": 3,
   "id": "53645fed",
   "metadata": {},
   "outputs": [],
   "source": [
    "# http://exoplanet.eu/catalog/\n",
    "dataset = pd.read_csv(\"/Users/dhruvkumar/Desktop/exoplanet.eu_catalog.csv\")"
   ]
  },
  {
   "cell_type": "code",
   "execution_count": 6,
   "id": "1f0059fd",
   "metadata": {},
   "outputs": [
    {
     "data": {
      "text/html": [
       "<div>\n",
       "<style scoped>\n",
       "    .dataframe tbody tr th:only-of-type {\n",
       "        vertical-align: middle;\n",
       "    }\n",
       "\n",
       "    .dataframe tbody tr th {\n",
       "        vertical-align: top;\n",
       "    }\n",
       "\n",
       "    .dataframe thead th {\n",
       "        text-align: right;\n",
       "    }\n",
       "</style>\n",
       "<table border=\"1\" class=\"dataframe\">\n",
       "  <thead>\n",
       "    <tr style=\"text-align: right;\">\n",
       "      <th></th>\n",
       "      <th># name</th>\n",
       "      <th>planet_status</th>\n",
       "      <th>mass</th>\n",
       "      <th>mass_error_min</th>\n",
       "      <th>mass_error_max</th>\n",
       "      <th>mass_sini</th>\n",
       "      <th>mass_sini_error_min</th>\n",
       "      <th>mass_sini_error_max</th>\n",
       "      <th>radius</th>\n",
       "      <th>radius_error_min</th>\n",
       "      <th>...</th>\n",
       "      <th>star_sp_type</th>\n",
       "      <th>star_age</th>\n",
       "      <th>star_age_error_min</th>\n",
       "      <th>star_age_error_max</th>\n",
       "      <th>star_teff</th>\n",
       "      <th>star_teff_error_min</th>\n",
       "      <th>star_teff_error_max</th>\n",
       "      <th>star_detected_disc</th>\n",
       "      <th>star_magnetic_field</th>\n",
       "      <th>star_alternate_names</th>\n",
       "    </tr>\n",
       "  </thead>\n",
       "  <tbody>\n",
       "    <tr>\n",
       "      <th>0</th>\n",
       "      <td>11 Com b</td>\n",
       "      <td>Confirmed</td>\n",
       "      <td>NaN</td>\n",
       "      <td>NaN</td>\n",
       "      <td>NaN</td>\n",
       "      <td>16.1284</td>\n",
       "      <td>1.500</td>\n",
       "      <td>1.500</td>\n",
       "      <td>NaN</td>\n",
       "      <td>NaN</td>\n",
       "      <td>...</td>\n",
       "      <td>G8 III</td>\n",
       "      <td>NaN</td>\n",
       "      <td>NaN</td>\n",
       "      <td>NaN</td>\n",
       "      <td>4742.0</td>\n",
       "      <td>100.0</td>\n",
       "      <td>100.0</td>\n",
       "      <td>NaN</td>\n",
       "      <td>NaN</td>\n",
       "      <td>NaN</td>\n",
       "    </tr>\n",
       "    <tr>\n",
       "      <th>1</th>\n",
       "      <td>11 Oph b</td>\n",
       "      <td>Confirmed</td>\n",
       "      <td>21.00</td>\n",
       "      <td>3.00</td>\n",
       "      <td>3.00</td>\n",
       "      <td>NaN</td>\n",
       "      <td>NaN</td>\n",
       "      <td>NaN</td>\n",
       "      <td>NaN</td>\n",
       "      <td>NaN</td>\n",
       "      <td>...</td>\n",
       "      <td>M9</td>\n",
       "      <td>0.011</td>\n",
       "      <td>0.002</td>\n",
       "      <td>0.002</td>\n",
       "      <td>2375.0</td>\n",
       "      <td>175.0</td>\n",
       "      <td>175.0</td>\n",
       "      <td>NaN</td>\n",
       "      <td>NaN</td>\n",
       "      <td>Oph 1622-2405, Oph 11A</td>\n",
       "    </tr>\n",
       "    <tr>\n",
       "      <th>2</th>\n",
       "      <td>11 UMi b</td>\n",
       "      <td>Confirmed</td>\n",
       "      <td>NaN</td>\n",
       "      <td>NaN</td>\n",
       "      <td>NaN</td>\n",
       "      <td>11.0873</td>\n",
       "      <td>1.100</td>\n",
       "      <td>1.100</td>\n",
       "      <td>NaN</td>\n",
       "      <td>NaN</td>\n",
       "      <td>...</td>\n",
       "      <td>K4III</td>\n",
       "      <td>1.560</td>\n",
       "      <td>0.540</td>\n",
       "      <td>0.540</td>\n",
       "      <td>4340.0</td>\n",
       "      <td>70.0</td>\n",
       "      <td>70.0</td>\n",
       "      <td>NaN</td>\n",
       "      <td>NaN</td>\n",
       "      <td>NaN</td>\n",
       "    </tr>\n",
       "    <tr>\n",
       "      <th>3</th>\n",
       "      <td>14 And b</td>\n",
       "      <td>Confirmed</td>\n",
       "      <td>NaN</td>\n",
       "      <td>NaN</td>\n",
       "      <td>NaN</td>\n",
       "      <td>4.6840</td>\n",
       "      <td>0.230</td>\n",
       "      <td>0.230</td>\n",
       "      <td>NaN</td>\n",
       "      <td>NaN</td>\n",
       "      <td>...</td>\n",
       "      <td>K0III</td>\n",
       "      <td>NaN</td>\n",
       "      <td>NaN</td>\n",
       "      <td>NaN</td>\n",
       "      <td>4813.0</td>\n",
       "      <td>20.0</td>\n",
       "      <td>20.0</td>\n",
       "      <td>NaN</td>\n",
       "      <td>NaN</td>\n",
       "      <td>NaN</td>\n",
       "    </tr>\n",
       "    <tr>\n",
       "      <th>4</th>\n",
       "      <td>14 Her b</td>\n",
       "      <td>Confirmed</td>\n",
       "      <td>9.10</td>\n",
       "      <td>NaN</td>\n",
       "      <td>NaN</td>\n",
       "      <td>5.2150</td>\n",
       "      <td>NaN</td>\n",
       "      <td>NaN</td>\n",
       "      <td>NaN</td>\n",
       "      <td>NaN</td>\n",
       "      <td>...</td>\n",
       "      <td>K0 V</td>\n",
       "      <td>5.100</td>\n",
       "      <td>NaN</td>\n",
       "      <td>NaN</td>\n",
       "      <td>5311.0</td>\n",
       "      <td>87.0</td>\n",
       "      <td>87.0</td>\n",
       "      <td>NaN</td>\n",
       "      <td>NaN</td>\n",
       "      <td>NaN</td>\n",
       "    </tr>\n",
       "    <tr>\n",
       "      <th>...</th>\n",
       "      <td>...</td>\n",
       "      <td>...</td>\n",
       "      <td>...</td>\n",
       "      <td>...</td>\n",
       "      <td>...</td>\n",
       "      <td>...</td>\n",
       "      <td>...</td>\n",
       "      <td>...</td>\n",
       "      <td>...</td>\n",
       "      <td>...</td>\n",
       "      <td>...</td>\n",
       "      <td>...</td>\n",
       "      <td>...</td>\n",
       "      <td>...</td>\n",
       "      <td>...</td>\n",
       "      <td>...</td>\n",
       "      <td>...</td>\n",
       "      <td>...</td>\n",
       "      <td>...</td>\n",
       "      <td>...</td>\n",
       "      <td>...</td>\n",
       "    </tr>\n",
       "    <tr>\n",
       "      <th>4974</th>\n",
       "      <td>ups And c</td>\n",
       "      <td>Confirmed</td>\n",
       "      <td>9.10</td>\n",
       "      <td>2.93</td>\n",
       "      <td>5.04</td>\n",
       "      <td>1.8000</td>\n",
       "      <td>0.260</td>\n",
       "      <td>0.260</td>\n",
       "      <td>NaN</td>\n",
       "      <td>NaN</td>\n",
       "      <td>...</td>\n",
       "      <td>F8 V</td>\n",
       "      <td>3.800</td>\n",
       "      <td>1.000</td>\n",
       "      <td>1.000</td>\n",
       "      <td>6212.0</td>\n",
       "      <td>80.0</td>\n",
       "      <td>80.0</td>\n",
       "      <td>NaN</td>\n",
       "      <td>NaN</td>\n",
       "      <td>NaN</td>\n",
       "    </tr>\n",
       "    <tr>\n",
       "      <th>4975</th>\n",
       "      <td>ups And d</td>\n",
       "      <td>Confirmed</td>\n",
       "      <td>23.58</td>\n",
       "      <td>2.29</td>\n",
       "      <td>2.93</td>\n",
       "      <td>10.1900</td>\n",
       "      <td>NaN</td>\n",
       "      <td>NaN</td>\n",
       "      <td>NaN</td>\n",
       "      <td>NaN</td>\n",
       "      <td>...</td>\n",
       "      <td>F8 V</td>\n",
       "      <td>3.800</td>\n",
       "      <td>1.000</td>\n",
       "      <td>1.000</td>\n",
       "      <td>6212.0</td>\n",
       "      <td>80.0</td>\n",
       "      <td>80.0</td>\n",
       "      <td>NaN</td>\n",
       "      <td>NaN</td>\n",
       "      <td>NaN</td>\n",
       "    </tr>\n",
       "    <tr>\n",
       "      <th>4976</th>\n",
       "      <td>ups And e</td>\n",
       "      <td>Confirmed</td>\n",
       "      <td>NaN</td>\n",
       "      <td>NaN</td>\n",
       "      <td>NaN</td>\n",
       "      <td>1.0590</td>\n",
       "      <td>0.028</td>\n",
       "      <td>0.028</td>\n",
       "      <td>NaN</td>\n",
       "      <td>NaN</td>\n",
       "      <td>...</td>\n",
       "      <td>F8 V</td>\n",
       "      <td>3.800</td>\n",
       "      <td>1.000</td>\n",
       "      <td>1.000</td>\n",
       "      <td>6212.0</td>\n",
       "      <td>80.0</td>\n",
       "      <td>80.0</td>\n",
       "      <td>NaN</td>\n",
       "      <td>NaN</td>\n",
       "      <td>NaN</td>\n",
       "    </tr>\n",
       "    <tr>\n",
       "      <th>4977</th>\n",
       "      <td>ups Leo b</td>\n",
       "      <td>Confirmed</td>\n",
       "      <td>NaN</td>\n",
       "      <td>NaN</td>\n",
       "      <td>NaN</td>\n",
       "      <td>0.5100</td>\n",
       "      <td>0.260</td>\n",
       "      <td>0.080</td>\n",
       "      <td>NaN</td>\n",
       "      <td>NaN</td>\n",
       "      <td>...</td>\n",
       "      <td>G9 III</td>\n",
       "      <td>NaN</td>\n",
       "      <td>NaN</td>\n",
       "      <td>NaN</td>\n",
       "      <td>NaN</td>\n",
       "      <td>NaN</td>\n",
       "      <td>NaN</td>\n",
       "      <td>NaN</td>\n",
       "      <td>NaN</td>\n",
       "      <td>NaN</td>\n",
       "    </tr>\n",
       "    <tr>\n",
       "      <th>4978</th>\n",
       "      <td>zet Del B</td>\n",
       "      <td>Confirmed</td>\n",
       "      <td>40.00</td>\n",
       "      <td>5.00</td>\n",
       "      <td>15.00</td>\n",
       "      <td>NaN</td>\n",
       "      <td>NaN</td>\n",
       "      <td>NaN</td>\n",
       "      <td>NaN</td>\n",
       "      <td>NaN</td>\n",
       "      <td>...</td>\n",
       "      <td>A3V</td>\n",
       "      <td>0.525</td>\n",
       "      <td>0.125</td>\n",
       "      <td>0.125</td>\n",
       "      <td>8336.0</td>\n",
       "      <td>NaN</td>\n",
       "      <td>NaN</td>\n",
       "      <td>NaN</td>\n",
       "      <td>NaN</td>\n",
       "      <td>HD 196180, HIP 101589, 2MASS J20351852+1440272</td>\n",
       "    </tr>\n",
       "  </tbody>\n",
       "</table>\n",
       "<p>4979 rows × 98 columns</p>\n",
       "</div>"
      ],
      "text/plain": [
       "         # name planet_status   mass  mass_error_min  mass_error_max  \\\n",
       "0      11 Com b     Confirmed    NaN             NaN             NaN   \n",
       "1      11 Oph b     Confirmed  21.00            3.00            3.00   \n",
       "2      11 UMi b     Confirmed    NaN             NaN             NaN   \n",
       "3      14 And b     Confirmed    NaN             NaN             NaN   \n",
       "4      14 Her b     Confirmed   9.10             NaN             NaN   \n",
       "...         ...           ...    ...             ...             ...   \n",
       "4974  ups And c     Confirmed   9.10            2.93            5.04   \n",
       "4975  ups And d     Confirmed  23.58            2.29            2.93   \n",
       "4976  ups And e     Confirmed    NaN             NaN             NaN   \n",
       "4977  ups Leo b     Confirmed    NaN             NaN             NaN   \n",
       "4978  zet Del B     Confirmed  40.00            5.00           15.00   \n",
       "\n",
       "      mass_sini  mass_sini_error_min  mass_sini_error_max  radius  \\\n",
       "0       16.1284                1.500                1.500     NaN   \n",
       "1           NaN                  NaN                  NaN     NaN   \n",
       "2       11.0873                1.100                1.100     NaN   \n",
       "3        4.6840                0.230                0.230     NaN   \n",
       "4        5.2150                  NaN                  NaN     NaN   \n",
       "...         ...                  ...                  ...     ...   \n",
       "4974     1.8000                0.260                0.260     NaN   \n",
       "4975    10.1900                  NaN                  NaN     NaN   \n",
       "4976     1.0590                0.028                0.028     NaN   \n",
       "4977     0.5100                0.260                0.080     NaN   \n",
       "4978        NaN                  NaN                  NaN     NaN   \n",
       "\n",
       "      radius_error_min  ...  star_sp_type  star_age  star_age_error_min  \\\n",
       "0                  NaN  ...        G8 III       NaN                 NaN   \n",
       "1                  NaN  ...            M9     0.011               0.002   \n",
       "2                  NaN  ...         K4III     1.560               0.540   \n",
       "3                  NaN  ...         K0III       NaN                 NaN   \n",
       "4                  NaN  ...          K0 V     5.100                 NaN   \n",
       "...                ...  ...           ...       ...                 ...   \n",
       "4974               NaN  ...          F8 V     3.800               1.000   \n",
       "4975               NaN  ...          F8 V     3.800               1.000   \n",
       "4976               NaN  ...          F8 V     3.800               1.000   \n",
       "4977               NaN  ...        G9 III       NaN                 NaN   \n",
       "4978               NaN  ...           A3V     0.525               0.125   \n",
       "\n",
       "      star_age_error_max  star_teff  star_teff_error_min  star_teff_error_max  \\\n",
       "0                    NaN     4742.0                100.0                100.0   \n",
       "1                  0.002     2375.0                175.0                175.0   \n",
       "2                  0.540     4340.0                 70.0                 70.0   \n",
       "3                    NaN     4813.0                 20.0                 20.0   \n",
       "4                    NaN     5311.0                 87.0                 87.0   \n",
       "...                  ...        ...                  ...                  ...   \n",
       "4974               1.000     6212.0                 80.0                 80.0   \n",
       "4975               1.000     6212.0                 80.0                 80.0   \n",
       "4976               1.000     6212.0                 80.0                 80.0   \n",
       "4977                 NaN        NaN                  NaN                  NaN   \n",
       "4978               0.125     8336.0                  NaN                  NaN   \n",
       "\n",
       "      star_detected_disc  star_magnetic_field  \\\n",
       "0                    NaN                  NaN   \n",
       "1                    NaN                  NaN   \n",
       "2                    NaN                  NaN   \n",
       "3                    NaN                  NaN   \n",
       "4                    NaN                  NaN   \n",
       "...                  ...                  ...   \n",
       "4974                 NaN                  NaN   \n",
       "4975                 NaN                  NaN   \n",
       "4976                 NaN                  NaN   \n",
       "4977                 NaN                  NaN   \n",
       "4978                 NaN                  NaN   \n",
       "\n",
       "                                star_alternate_names  \n",
       "0                                                NaN  \n",
       "1                             Oph 1622-2405, Oph 11A  \n",
       "2                                                NaN  \n",
       "3                                                NaN  \n",
       "4                                                NaN  \n",
       "...                                              ...  \n",
       "4974                                             NaN  \n",
       "4975                                             NaN  \n",
       "4976                                             NaN  \n",
       "4977                                             NaN  \n",
       "4978  HD 196180, HIP 101589, 2MASS J20351852+1440272  \n",
       "\n",
       "[4979 rows x 98 columns]"
      ]
     },
     "execution_count": 6,
     "metadata": {},
     "output_type": "execute_result"
    }
   ],
   "source": [
    "dataset"
   ]
  },
  {
   "cell_type": "code",
   "execution_count": 8,
   "id": "3aae3638",
   "metadata": {},
   "outputs": [],
   "source": [
    "e = dataset.eccentricity"
   ]
  },
  {
   "cell_type": "code",
   "execution_count": 30,
   "id": "e8a77f9b",
   "metadata": {},
   "outputs": [
    {
     "data": {
      "text/plain": [
       "0       0.23100\n",
       "1           NaN\n",
       "2       0.08000\n",
       "3       0.00000\n",
       "4       0.36900\n",
       "         ...   \n",
       "4974    0.24450\n",
       "4975    0.31600\n",
       "4976    0.00536\n",
       "4977    0.32000\n",
       "4978        NaN\n",
       "Name: eccentricity, Length: 4979, dtype: float64"
      ]
     },
     "execution_count": 30,
     "metadata": {},
     "output_type": "execute_result"
    }
   ],
   "source": [
    "dataset.eccentricity"
   ]
  },
  {
   "cell_type": "code",
   "execution_count": 87,
   "id": "3a04efe9",
   "metadata": {},
   "outputs": [
    {
     "data": {
      "text/plain": [
       "Text(0, 0.5, 'Number of Planets')"
      ]
     },
     "execution_count": 87,
     "metadata": {},
     "output_type": "execute_result"
    },
    {
     "data": {
      "image/png": "[encoded data removed]",
      "text/plain": [
       "<Figure size 432x288 with 1 Axes>"
      ]
     },
     "metadata": {
      "needs_background": "light"
     },
     "output_type": "display_data"
    }
   ],
   "source": [
    "plt.hist(e) # ecentricity\n",
    "plt.xlabel(\"e\")\n",
    "plt.ylabel(\"Number of Planets\")"
   ]
  },
  {
   "cell_type": "code",
   "execution_count": 88,
   "id": "9e1fd199",
   "metadata": {},
   "outputs": [],
   "source": [
    "import scipy "
   ]
  },
  {
   "cell_type": "code",
   "execution_count": 89,
   "id": "44f0850d",
   "metadata": {},
   "outputs": [],
   "source": [
    "from scipy.stats import boxcox"
   ]
  },
  {
   "cell_type": "code",
   "execution_count": 90,
   "id": "2ebe066e",
   "metadata": {},
   "outputs": [
    {
     "data": {
      "text/plain": [
       "Text(0, 0.5, 'dN')"
      ]
     },
     "execution_count": 90,
     "metadata": {},
     "output_type": "execute_result"
    },
    {
     "data": {
      "image/png": "[encoded data removed]",
      "text/plain": [
       "<Figure size 432x288 with 1 Axes>"
      ]
     },
     "metadata": {
      "needs_background": "light"
     },
     "output_type": "display_data"
    }
   ],
   "source": [
    "data = e[e > 0]\n",
    "fig = plt.figure()\n",
    "ax1 = fig.add_subplot(211)\n",
    "e = dataset.eccentricity \n",
    "prob = stats.probplot(data,dist=stats.norm,plot=ax1)\n",
    "ax1.set_xlabel('y $\\lambda$(e)')\n",
    "ax1.set_ylabel('dN')"
   ]
  },
  {
   "cell_type": "code",
   "execution_count": 105,
   "id": "a5ffc8d4",
   "metadata": {},
   "outputs": [
    {
     "name": "stderr",
     "output_type": "stream",
     "text": [
      "/opt/anaconda3/lib/python3.8/site-packages/seaborn/distributions.py:2557: FutureWarning: `distplot` is a deprecated function and will be removed in a future version. Please adapt your code to use either `displot` (a figure-level function with similar flexibility) or `histplot` (an axes-level function for histograms).\n",
      "  warnings.warn(msg, FutureWarning)\n"
     ]
    },
    {
     "data": {
      "text/plain": [
       "<AxesSubplot:xlabel='eccentricity', ylabel='Density'>"
      ]
     },
     "execution_count": 105,
     "metadata": {},
     "output_type": "execute_result"
    },
    {
     "data": {
      "image/png": "[encoded data removed]",
      "text/plain": [
       "<Figure size 432x288 with 1 Axes>"
      ]
     },
     "metadata": {
      "needs_background": "light"
     },
     "output_type": "display_data"
    }
   ],
   "source": [
    "#load necessary packages\n",
    "import numpy as np \n",
    "from scipy.stats import boxcox \n",
    "import seaborn as sns \n",
    "\n",
    "#make this example reproducible\n",
    "np.random.seed(42)\n",
    "\n",
    "#generate dataset\n",
    "\n",
    "#plot the distribution of data values\n",
    "sns.distplot(data, hist=True, kde=True) "
   ]
  },
  {
   "cell_type": "code",
   "execution_count": 103,
   "id": "67a5b9a8",
   "metadata": {},
   "outputs": [
    {
     "name": "stderr",
     "output_type": "stream",
     "text": [
      "/opt/anaconda3/lib/python3.8/site-packages/seaborn/distributions.py:2557: FutureWarning: `distplot` is a deprecated function and will be removed in a future version. Please adapt your code to use either `displot` (a figure-level function with similar flexibility) or `histplot` (an axes-level function for histograms).\n",
      "  warnings.warn(msg, FutureWarning)\n"
     ]
    },
    {
     "data": {
      "text/plain": [
       "<AxesSubplot:ylabel='Density'>"
      ]
     },
     "execution_count": 103,
     "metadata": {},
     "output_type": "execute_result"
    },
    {
     "data": {
      "image/png": "[encoded data removed]",
      "text/plain": [
       "<Figure size 432x288 with 1 Axes>"
      ]
     },
     "metadata": {
      "needs_background": "light"
     },
     "output_type": "display_data"
    }
   ],
   "source": [
    "#perform Box-Cox transformation on original data\n",
    "transformed_data, best_lambda = boxcox(data) \n",
    "\n",
    "#plot the distribution of the transformed data values\n",
    "sns.distplot(transformed_data, hist=True, kde=True) "
   ]
  },
  {
   "cell_type": "code",
   "execution_count": 101,
   "id": "f1097f81",
   "metadata": {},
   "outputs": [
    {
     "name": "stdout",
     "output_type": "stream",
     "text": [
      "0.24271536730189142\n"
     ]
    }
   ],
   "source": [
    "#display optimal lambda value\n",
    "print(best_lambda)"
   ]
  },
  {
   "cell_type": "code",
   "execution_count": null,
   "id": "0158dc9d",
   "metadata": {},
   "outputs": [],
   "source": []
  }
 ],
 "metadata": {
  "kernelspec": {
   "display_name": "Python 3",
   "language": "python",
   "name": "python3"
  },
  "language_info": {
   "codemirror_mode": {
    "name": "ipython",
    "version": 3
   },
   "file_extension": ".py",
   "mimetype": "text/x-python",
   "name": "python",
   "nbconvert_exporter": "python",
   "pygments_lexer": "ipython3",
   "version": "3.8.8"
  }
 },
 "nbformat": 4,
 "nbformat_minor": 5
}
