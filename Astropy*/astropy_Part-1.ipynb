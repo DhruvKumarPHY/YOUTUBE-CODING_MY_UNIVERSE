{
 "cells": [
  {
   "cell_type": "code",
   "execution_count": 33,
   "id": "9e27425c",
   "metadata": {},
   "outputs": [],
   "source": [
    "%matplotlib inline\n",
    "import matplotlib.pyplot as plt \n",
    "import numpy as np\n",
    "import astropy"
   ]
  },
  {
   "attachments": {
    "images.png": {
     "image/png": "[encoded data removed]"
    }
   },
   "cell_type": "markdown",
   "id": "06aa145a",
   "metadata": {},
   "source": [
    "![images.png](attachment:images.png)"
   ]
  },
  {
   "cell_type": "markdown",
   "id": "baae61ed",
   "metadata": {},
   "source": [
    "# Unit and Quantaties"
   ]
  },
  {
   "cell_type": "code",
   "execution_count": 34,
   "id": "c0263a07",
   "metadata": {},
   "outputs": [],
   "source": [
    "from astropy import units as u"
   ]
  },
  {
   "cell_type": "code",
   "execution_count": 35,
   "id": "4adf8f01",
   "metadata": {},
   "outputs": [
    {
     "name": "stdout",
     "output_type": "stream",
     "text": [
      "1.0 lyr\n"
     ]
    }
   ],
   "source": [
    "distance = 1 * u.lightyear  #1\n",
    "print(distance) "
   ]
  },
  {
   "cell_type": "code",
   "execution_count": 36,
   "id": "389e985c",
   "metadata": {},
   "outputs": [
    {
     "name": "stdout",
     "output_type": "stream",
     "text": [
      "1.0 lyr\n"
     ]
    }
   ],
   "source": [
    "distance3 = u.Quantity('2 lyr')\n",
    "print(distance)"
   ]
  },
  {
   "cell_type": "code",
   "execution_count": 37,
   "id": "674f39e9",
   "metadata": {},
   "outputs": [
    {
     "data": {
      "text/latex": [
       "$\\mathrm{m}$"
      ],
      "text/plain": [
       "Unit(\"m\")"
      ]
     },
     "execution_count": 37,
     "metadata": {},
     "output_type": "execute_result"
    }
   ],
   "source": [
    "u.meter"
   ]
  },
  {
   "cell_type": "code",
   "execution_count": 38,
   "id": "11772de9",
   "metadata": {},
   "outputs": [
    {
     "name": "stdout",
     "output_type": "stream",
     "text": [
      "[1. 4. 6.] lyr\n",
      "[1. 3. 5.] lyr\n"
     ]
    }
   ],
   "source": [
    "distance1 = [1,4,6] * u.lightyear\n",
    "print(distance1)\n",
    "distance2 = np.array([1,3,5]) * u.lightyear\n",
    "print(distance2)"
   ]
  },
  {
   "cell_type": "code",
   "execution_count": 39,
   "id": "473d9e51",
   "metadata": {},
   "outputs": [
    {
     "data": {
      "text/plain": [
       "array([1., 4., 6.])"
      ]
     },
     "execution_count": 39,
     "metadata": {},
     "output_type": "execute_result"
    }
   ],
   "source": [
    "distance1.value"
   ]
  },
  {
   "cell_type": "code",
   "execution_count": 40,
   "id": "03df6a72",
   "metadata": {},
   "outputs": [
    {
     "data": {
      "text/plain": [
       "array([1., 3., 5.])"
      ]
     },
     "execution_count": 40,
     "metadata": {},
     "output_type": "execute_result"
    }
   ],
   "source": [
    "distance2.value"
   ]
  },
  {
   "cell_type": "code",
   "execution_count": 41,
   "id": "75dab186",
   "metadata": {},
   "outputs": [
    {
     "data": {
      "text/plain": [
       "astropy.units.quantity.Quantity"
      ]
     },
     "execution_count": 41,
     "metadata": {},
     "output_type": "execute_result"
    }
   ],
   "source": [
    "type(distance1)"
   ]
  },
  {
   "cell_type": "code",
   "execution_count": 42,
   "id": "e530939f",
   "metadata": {},
   "outputs": [
    {
     "data": {
      "text/plain": [
       "astropy.units.quantity.Quantity"
      ]
     },
     "execution_count": 42,
     "metadata": {},
     "output_type": "execute_result"
    }
   ],
   "source": [
    "type(distance2)"
   ]
  },
  {
   "cell_type": "code",
   "execution_count": 43,
   "id": "71311ab1",
   "metadata": {},
   "outputs": [
    {
     "data": {
      "text/latex": [
       "$6 \\; \\mathrm{lyr}$"
      ],
      "text/plain": [
       "<Quantity 6. lyr>"
      ]
     },
     "execution_count": 43,
     "metadata": {},
     "output_type": "execute_result"
    }
   ],
   "source": [
    "np.max(distance1)"
   ]
  },
  {
   "cell_type": "code",
   "execution_count": 44,
   "id": "7b6d0add",
   "metadata": {},
   "outputs": [
    {
     "data": {
      "text/latex": [
       "$3.6666667 \\; \\mathrm{lyr}$"
      ],
      "text/plain": [
       "<Quantity 3.66666667 lyr>"
      ]
     },
     "execution_count": 44,
     "metadata": {},
     "output_type": "execute_result"
    }
   ],
   "source": [
    "np.mean(distance1)"
   ]
  },
  {
   "cell_type": "code",
   "execution_count": 45,
   "id": "5b2d4940",
   "metadata": {},
   "outputs": [
    {
     "data": {
      "text/latex": [
       "$1.0986123 \\; \\mathrm{}$"
      ],
      "text/plain": [
       "<Quantity 1.09861229>"
      ]
     },
     "execution_count": 45,
     "metadata": {},
     "output_type": "execute_result"
    }
   ],
   "source": [
    "# In CASE of log we are required to give a reference value to make it dimensionless.\n",
    "np.log((30 * u.MeV) / (10 * u.MeV)) # without 10 MeV it will give an error"
   ]
  },
  {
   "cell_type": "code",
   "execution_count": 46,
   "id": "2cdaf40a",
   "metadata": {},
   "outputs": [
    {
     "data": {
      "text/latex": [
       "$[9.4607305 \\times 10^{15},~3.7842922 \\times 10^{16},~5.6764383 \\times 10^{16}] \\; \\mathrm{m}$"
      ],
      "text/plain": [
       "<Quantity [9.46073047e+15, 3.78429219e+16, 5.67643828e+16] m>"
      ]
     },
     "execution_count": 46,
     "metadata": {},
     "output_type": "execute_result"
    }
   ],
   "source": [
    "distance1.to('meter') # Unit Conversion"
   ]
  },
  {
   "cell_type": "code",
   "execution_count": 47,
   "id": "d4e25483",
   "metadata": {},
   "outputs": [
    {
     "data": {
      "text/latex": [
       "$[0.30660139,~1.2264056,~1.8396084] \\; \\mathrm{pc}$"
      ],
      "text/plain": [
       "<Quantity [0.30660139, 1.22640558, 1.83960836] pc>"
      ]
     },
     "execution_count": 47,
     "metadata": {},
     "output_type": "execute_result"
    }
   ],
   "source": [
    "distance1.to('parsec')"
   ]
  },
  {
   "cell_type": "code",
   "execution_count": 48,
   "id": "4741e1b2",
   "metadata": {},
   "outputs": [
    {
     "name": "stdout",
     "output_type": "stream",
     "text": [
      "299792.458 km / s\n"
     ]
    }
   ],
   "source": [
    "speed_of_light = distance/ u.year # we have defined the distance in the first line of code.\n",
    "print(speed_of_light.to('km/s'))"
   ]
  },
  {
   "cell_type": "code",
   "execution_count": 49,
   "id": "5397476e",
   "metadata": {},
   "outputs": [
    {
     "name": "stdout",
     "output_type": "stream",
     "text": [
      "2.5902068371199996e+23 Angstrom / d\n"
     ]
    }
   ],
   "source": [
    "print(speed_of_light.to('angstrom/day'))  # Bhai SAha!!!"
   ]
  },
  {
   "cell_type": "code",
   "execution_count": 50,
   "id": "b1085f31",
   "metadata": {},
   "outputs": [
    {
     "data": {
      "text/latex": [
       "$2.9979246 \\times 10^{8} \\; \\mathrm{\\frac{m}{s}}$"
      ],
      "text/plain": [
       "<Quantity 2.99792458e+08 m / s>"
      ]
     },
     "execution_count": 50,
     "metadata": {},
     "output_type": "execute_result"
    }
   ],
   "source": [
    "speed_of_light.si  #SI units"
   ]
  },
  {
   "cell_type": "code",
   "execution_count": 51,
   "id": "3e48a515",
   "metadata": {},
   "outputs": [
    {
     "data": {
      "text/latex": [
       "$2.9979246 \\times 10^{10} \\; \\mathrm{\\frac{cm}{s}}$"
      ],
      "text/plain": [
       "<Quantity 2.99792458e+10 cm / s>"
      ]
     },
     "execution_count": 51,
     "metadata": {},
     "output_type": "execute_result"
    }
   ],
   "source": [
    "speed_of_light.cgs  #CGS units"
   ]
  },
  {
   "cell_type": "markdown",
   "id": "e03eb2d7",
   "metadata": {},
   "source": [
    "## Equivalencies"
   ]
  },
  {
   "cell_type": "code",
   "execution_count": 52,
   "id": "9c778039",
   "metadata": {},
   "outputs": [
    {
     "data": {
      "text/latex": [
       "$1.2407003 \\; \\mathrm{MeV}$"
      ],
      "text/plain": [
       "<Quantity 1.24070031 MeV>"
      ]
     },
     "execution_count": 52,
     "metadata": {},
     "output_type": "execute_result"
    }
   ],
   "source": [
    "frequency = 3e20 * u.hertz\n",
    "frequency.to('MeV',equivalencies = u.spectral())  # by using equivalencies = u.spectra() we are able to do so"
   ]
  },
  {
   "cell_type": "code",
   "execution_count": 53,
   "id": "a284156d",
   "metadata": {},
   "outputs": [
    {
     "data": {
      "text/latex": [
       "$0.99930819 \\; \\mathrm{pm}$"
      ],
      "text/plain": [
       "<Quantity 0.99930819 pm>"
      ]
     },
     "execution_count": 53,
     "metadata": {},
     "output_type": "execute_result"
    }
   ],
   "source": [
    "frequency.to('picometer',equivalencies=u.spectral())"
   ]
  },
  {
   "cell_type": "code",
   "execution_count": 54,
   "id": "7ad27e76",
   "metadata": {},
   "outputs": [
    {
     "data": {
      "text/latex": [
       "$298.15 \\; \\mathrm{K}$"
      ],
      "text/plain": [
       "<Quantity 298.15 K>"
      ]
     },
     "execution_count": 54,
     "metadata": {},
     "output_type": "execute_result"
    }
   ],
   "source": [
    "# Temperature\n",
    "temperature = 25 * u.Celsius\n",
    "temperature.to('K',equivalencies=u.temperature()) # cool Room Temperature"
   ]
  },
  {
   "cell_type": "code",
   "execution_count": 55,
   "id": "9968aaf8",
   "metadata": {},
   "outputs": [
    {
     "name": "stdout",
     "output_type": "stream",
     "text": [
      "77.0 deg_F\n"
     ]
    }
   ],
   "source": [
    "with u.imperial.enable():\n",
    "    print(temperature.to(\"deg_F\",equivalencies=u.temperature())) "
   ]
  },
  {
   "cell_type": "markdown",
   "id": "e0b968bd",
   "metadata": {},
   "source": [
    "### Constants (Special)"
   ]
  },
  {
   "cell_type": "code",
   "execution_count": 56,
   "id": "bfa2f2a9",
   "metadata": {},
   "outputs": [
    {
     "name": "stdout",
     "output_type": "stream",
     "text": [
      "1079252848.8 km / h\n"
     ]
    }
   ],
   "source": [
    "from astropy import constants as const\n",
    "print(const.c.to('km/hour')) # speed of light"
   ]
  },
  {
   "attachments": {
    "Screenshot%202022-03-31%20at%204.47.45%20PM.png": {
     "image/png": "[encoded data removed]"
    }
   },
   "cell_type": "markdown",
   "id": "0f5494f0",
   "metadata": {},
   "source": [
    "![Screenshot%202022-03-31%20at%204.47.45%20PM.png](attachment:Screenshot%202022-03-31%20at%204.47.45%20PM.png)"
   ]
  },
  {
   "cell_type": "markdown",
   "id": "ad140ffc",
   "metadata": {},
   "source": [
    "Wikipedia url- https://en.wikipedia.org/wiki/Planck%27s_law"
   ]
  },
  {
   "cell_type": "code",
   "execution_count": 57,
   "id": "b1c21201",
   "metadata": {},
   "outputs": [],
   "source": [
    "@u.quantity_input(frequency=u.hertz,temperature=u.K)  # defining the units to avoid any error\n",
    "def Blackbody(frequency,temperature):\n",
    "    pre_fac = 2 * (const.h * frequency**3)/const.c**2\n",
    "    expo_fac = 1/(np.exp((const.h* frequency)/(const.k_B * temperature))-1)\n",
    "    return pre_fac * expo_fac"
   ]
  },
  {
   "cell_type": "code",
   "execution_count": 58,
   "id": "0973628b",
   "metadata": {},
   "outputs": [
    {
     "data": {
      "text/latex": [
       "$1.1060492 \\times 10^{-32} \\; \\mathrm{\\frac{Hz^{3}\\,s^{3}\\,J}{m^{2}}}$"
      ],
      "text/plain": [
       "<Quantity 1.10604915e-32 Hz3 J s3 / m2>"
      ]
     },
     "execution_count": 58,
     "metadata": {},
     "output_type": "execute_result"
    }
   ],
   "source": [
    "Blackbody(300*u.hertz,400*u.K)"
   ]
  },
  {
   "cell_type": "markdown",
   "id": "e69565ca",
   "metadata": {},
   "source": [
    "### Interfacing quantaties with third-party code"
   ]
  },
  {
   "cell_type": "code",
   "execution_count": 59,
   "id": "96040476",
   "metadata": {},
   "outputs": [
    {
     "name": "stderr",
     "output_type": "stream",
     "text": [
      "/opt/anaconda3/lib/python3.8/site-packages/astropy/units/quantity.py:613: RuntimeWarning: divide by zero encountered in true_divide\n",
      "  result = super().__array_ufunc__(function, method, *arrays, **kwargs)\n"
     ]
    },
    {
     "data": {
      "image/png": "[encoded data removed]",
      "text/plain": [
       "<Figure size 1152x864 with 1 Axes>"
      ]
     },
     "metadata": {
      "needs_background": "light"
     },
     "output_type": "display_data"
    }
   ],
   "source": [
    "from astropy.visualization import quantity_support \n",
    "plt.figure(figsize = (16,12))\n",
    "temperature = 1200 * u.K\n",
    "frequencies = np.linspace(1e-5, 0.5e15, 1000) * u.hertz\n",
    "radiation = Blackbody(frequency = frequencies,temperature = temperature)\n",
    "\n",
    "with quantity_support():\n",
    "    plt.plot(frequencies,radiation)"
   ]
  },
  {
   "cell_type": "code",
   "execution_count": 60,
   "id": "65d2a9ff",
   "metadata": {},
   "outputs": [
    {
     "name": "stdout",
     "output_type": "stream",
     "text": [
      "[ 1.          1.29154967  1.66810054  2.15443469  2.7825594   3.59381366\n",
      "  4.64158883  5.9948425   7.74263683 10.        ] MeV\n"
     ]
    }
   ],
   "source": [
    "# log functions\n",
    "emin, emax =[1,10] * u.MeV\n",
    "energies = np.logspace(np.log10(emin.value),np.log10(emax.value),10) * emin.unit\n",
    "print(energies)\n",
    "# The numpy. logspace() function returns number spaces evenly w.r.t interval on a log scale."
   ]
  },
  {
   "cell_type": "code",
   "execution_count": 61,
   "id": "00b26835",
   "metadata": {},
   "outputs": [
    {
     "name": "stdout",
     "output_type": "stream",
     "text": [
      "[ 1.          1.29154967  1.66810054  2.15443469  2.7825594   3.59381366\n",
      "  4.64158883  5.9948425   7.74263683 10.        ] MeV\n"
     ]
    }
   ],
   "source": [
    "energies = np.geomspace(emin,emax,10) #G.P\n",
    "print(energies)\n",
    "#geomspace() is used to return numbers spaced evenly on a log scale (a geometric progression).\n",
    "#This is similar to numpy. logspace() but with endpoints specified directly. Each output sample is a constant multiple of the previous."
   ]
  },
  {
   "cell_type": "markdown",
   "id": "befaa8dc",
   "metadata": {},
   "source": [
    "### Performance Booster (Cheats)"
   ]
  },
  {
   "cell_type": "code",
   "execution_count": 62,
   "id": "26dc4122",
   "metadata": {},
   "outputs": [],
   "source": [
    "values = np.ones((500,500,500))  # (500 rows, 500 columns, 500 ones matrice)"
   ]
  },
  {
   "cell_type": "code",
   "execution_count": 63,
   "id": "048c10de",
   "metadata": {},
   "outputs": [
    {
     "name": "stdout",
     "output_type": "stream",
     "text": [
      "586 ms ± 137 ms per loop (mean ± std. dev. of 7 runs, 1 loop each)\n"
     ]
    }
   ],
   "source": [
    "%%timeit  #1\n",
    "quantity = values * u.kpc\n",
    "# the magic commands %timeit and %%timeit is used to measure the execution time of your code."
   ]
  },
  {
   "cell_type": "code",
   "execution_count": 64,
   "id": "6bd779b7",
   "metadata": {},
   "outputs": [
    {
     "name": "stdout",
     "output_type": "stream",
     "text": [
      "6.17 µs ± 58.4 ns per loop (mean ± std. dev. of 7 runs, 100000 loops each)\n"
     ]
    }
   ],
   "source": [
    "%%timeit #2\n",
    "quantity = u.Quantity(values,unit =\"kpc\",copy=False)\n",
    "# This command takes much less time"
   ]
  }
 ],
 "metadata": {
  "kernelspec": {
   "display_name": "Python 3",
   "language": "python",
   "name": "python3"
  },
  "language_info": {
   "codemirror_mode": {
    "name": "ipython",
    "version": 3
   },
   "file_extension": ".py",
   "mimetype": "text/x-python",
   "name": "python",
   "nbconvert_exporter": "python",
   "pygments_lexer": "ipython3",
   "version": "3.8.8"
  }
 },
 "nbformat": 4,
 "nbformat_minor": 5
}
