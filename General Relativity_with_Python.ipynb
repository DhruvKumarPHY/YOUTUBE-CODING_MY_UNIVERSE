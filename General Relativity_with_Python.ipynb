{
 "cells": [
  {
   "cell_type": "markdown",
   "id": "f8655fff",
   "metadata": {},
   "source": [
    "### General Relativty describes the interaction between the geometry of spacetime and the energy-momentum of matter.\n",
    "\n",
    "$G_{\\mu\\nu}$ + $\\lambda g_{\\mu\\nu}$ = 8$\\pi G T_{\\mu\\nu}$\n",
    " \n",
    "Einstein's field equations are basically a set of coupled partial differential equations of components of the metric $g_{\\mu\\nu}$\n",
    ". The metric defines the geometry of the space-time manifold.\n",
    "\n",
    "On the left hand side we have the Einstein tensor $G_{\\mu\\nu}$ = $R_{\\mu\\nu}$ - 1/2 $g_{\\mu\\nu}$$R$ , where the Riemann tensor and Ricci scalar are complicated functions of the metric and its derivatives. Besides, we have $\\lambda$ , which is a free constant parameter allowed by the theory, but which we now think is responsible for the accelerated expansion of the Universe.\n",
    "\n",
    "The right hand side, with the tensor $T_{\\mu\\nu}$ \n",
    " describes the energy and momentum of matter, a fluid, particles or the object in question (for example a star)."
   ]
  },
  {
   "cell_type": "code",
   "execution_count": 40,
   "id": "df298760",
   "metadata": {},
   "outputs": [],
   "source": [
    "import sympy as smp\n",
    "import einsteinpy "
   ]
  },
  {
   "cell_type": "markdown",
   "id": "ec7ebb36",
   "metadata": {},
   "source": [
    "#### Let's calculate the behavior of the \"scale factor\" of the Universe, that the Einstein equations predict, for a homogeneous and isotropic Universe filled with a perfect fluid."
   ]
  },
  {
   "cell_type": "code",
   "execution_count": 41,
   "id": "03bf68fc",
   "metadata": {},
   "outputs": [],
   "source": [
    "G_00, T_00, G, rho = smp.symbols(\"G_{00} T_{00} G \\\\rho\")"
   ]
  },
  {
   "cell_type": "code",
   "execution_count": 42,
   "id": "ba672f21",
   "metadata": {},
   "outputs": [
    {
     "data": {
      "text/latex": [
       "$\\displaystyle G_{00} = 8 \\pi G T_{00}$"
      ],
      "text/plain": [
       "Eq(G_{00}, 8*pi*G*T_{00})"
      ]
     },
     "execution_count": 42,
     "metadata": {},
     "output_type": "execute_result"
    }
   ],
   "source": [
    "einst_eq = smp.Eq( G_00, 8 * smp.pi * G * T_00 )\n",
    "einst_eq"
   ]
  },
  {
   "cell_type": "code",
   "execution_count": 43,
   "id": "43bc19dd",
   "metadata": {},
   "outputs": [
    {
     "data": {
      "text/latex": [
       "$\\displaystyle T_{00} = \\rho$"
      ],
      "text/plain": [
       "Eq(T_{00}, \\rho)"
      ]
     },
     "execution_count": 43,
     "metadata": {},
     "output_type": "execute_result"
    }
   ],
   "source": [
    "# The energy-momentum tensor of a perfect fluid:\n",
    "\n",
    "energy_momentum = smp.Eq(T_00, rho)\n",
    "energy_momentum"
   ]
  },
  {
   "cell_type": "code",
   "execution_count": 44,
   "id": "e272b253",
   "metadata": {},
   "outputs": [],
   "source": [
    "syms = smp.symbols(\"t x y z\")\n",
    "t, x, y, z = syms"
   ]
  },
  {
   "cell_type": "code",
   "execution_count": 45,
   "id": "b2e904c4",
   "metadata": {},
   "outputs": [],
   "source": [
    "a = smp.Function(\"a\")  ##scale factor"
   ]
  },
  {
   "cell_type": "markdown",
   "id": "70290b1c",
   "metadata": {},
   "source": [
    "__The line element of a homogeneous and isotropic Universe with no curvature. The metric elements are the coefficients in front of the coordinates.__\n",
    "$ds^{2}$ = $g_{\\mu\\nu}$ $dx^{\\mu}$ $dx^{\\nu}$ = -$dt^{2}$ + $a^{2}(t)$($dx^{2}$+$dy^{2}$+$dz^{2}$)\n",
    "\n"
   ]
  },
  {
   "cell_type": "code",
   "execution_count": 48,
   "id": "2b6f4dc0",
   "metadata": {},
   "outputs": [],
   "source": [
    "from einsteinpy.symbolic import EinsteinTensor, MetricTensor\n",
    "m = smp.diag(-1, a(t)**2, a(t)**2, a(t)** 2).tolist()\n",
    "metric = MetricTensor(m, syms)"
   ]
  },
  {
   "cell_type": "code",
   "execution_count": 49,
   "id": "a6399e69",
   "metadata": {},
   "outputs": [
    {
     "data": {
      "text/latex": [
       "$\\displaystyle \\left[\\begin{matrix}-1 & 0 & 0 & 0\\\\0 & a^{2}{\\left(t \\right)} & 0 & 0\\\\0 & 0 & a^{2}{\\left(t \\right)} & 0\\\\0 & 0 & 0 & a^{2}{\\left(t \\right)}\\end{matrix}\\right]$"
      ],
      "text/plain": [
       "[[-1, 0, 0, 0], [0, a(t)**2, 0, 0], [0, 0, a(t)**2, 0], [0, 0, 0, a(t)**2]]"
      ]
     },
     "execution_count": 49,
     "metadata": {},
     "output_type": "execute_result"
    }
   ],
   "source": [
    "metric.tensor()"
   ]
  },
  {
   "cell_type": "code",
   "execution_count": 50,
   "id": "051a8423",
   "metadata": {},
   "outputs": [
    {
     "data": {
      "text/latex": [
       "$\\displaystyle \\left[\\begin{matrix}\\frac{3.0 \\left(\\frac{d}{d t} a{\\left(t \\right)}\\right)^{2}}{a^{2}{\\left(t \\right)}} & 0 & 0 & 0\\\\0 & - 2.0 a{\\left(t \\right)} \\frac{d^{2}}{d t^{2}} a{\\left(t \\right)} - 1.0 \\left(\\frac{d}{d t} a{\\left(t \\right)}\\right)^{2} & 0 & 0\\\\0 & 0 & - 2.0 a{\\left(t \\right)} \\frac{d^{2}}{d t^{2}} a{\\left(t \\right)} - 1.0 \\left(\\frac{d}{d t} a{\\left(t \\right)}\\right)^{2} & 0\\\\0 & 0 & 0 & - 2.0 a{\\left(t \\right)} \\frac{d^{2}}{d t^{2}} a{\\left(t \\right)} - 1.0 \\left(\\frac{d}{d t} a{\\left(t \\right)}\\right)^{2}\\end{matrix}\\right]$"
      ],
      "text/plain": [
       "[[3.0*Derivative(a(t), t)**2/a(t)**2, 0, 0, 0], [0, -2.0*a(t)*Derivative(a(t), (t, 2)) - 1.0*Derivative(a(t), t)**2, 0, 0], [0, 0, -2.0*a(t)*Derivative(a(t), (t, 2)) - 1.0*Derivative(a(t), t)**2, 0], [0, 0, 0, -2.0*a(t)*Derivative(a(t), (t, 2)) - 1.0*Derivative(a(t), t)**2]]"
      ]
     },
     "execution_count": 50,
     "metadata": {},
     "output_type": "execute_result"
    }
   ],
   "source": [
    "einst = EinsteinTensor.from_metric(metric)\n",
    "einst.simplify()"
   ]
  },
  {
   "cell_type": "code",
   "execution_count": 52,
   "id": "449aa917",
   "metadata": {},
   "outputs": [],
   "source": [
    "H = smp.symbols(\"H\")"
   ]
  },
  {
   "cell_type": "markdown",
   "id": "c2771211",
   "metadata": {},
   "source": [
    "Let's define a new function, that we will cull the Hubble function and it will be the relative \"velocity\" of expansion of $a(t)$:\n",
    "\n",
    "$H(t)$ = $a^{o}$/$a$"
   ]
  },
  {
   "cell_type": "code",
   "execution_count": 56,
   "id": "8ce31c74",
   "metadata": {},
   "outputs": [
    {
     "data": {
      "text/latex": [
       "$\\displaystyle H = \\frac{\\frac{d}{d t} a{\\left(t \\right)}}{a{\\left(t \\right)}}$"
      ],
      "text/plain": [
       "Eq(H, Derivative(a(t), t)/a(t))"
      ]
     },
     "execution_count": 56,
     "metadata": {},
     "output_type": "execute_result"
    }
   ],
   "source": [
    "smp.Eq( H, smp.diff(a(t), t)/a(t))"
   ]
  },
  {
   "cell_type": "code",
   "execution_count": 58,
   "id": "4427366e",
   "metadata": {},
   "outputs": [
    {
     "data": {
      "text/latex": [
       "$\\displaystyle 3.0 H^{2}$"
      ],
      "text/plain": [
       "3.0*H**2"
      ]
     },
     "execution_count": 58,
     "metadata": {},
     "output_type": "execute_result"
    }
   ],
   "source": [
    "G_00s = einst[0,0]\n",
    "G_00s = G_00s.subs(smp.diff(a(t), t)/a(t), H)\n",
    "G_00s"
   ]
  },
  {
   "cell_type": "code",
   "execution_count": 59,
   "id": "3b6b04cf",
   "metadata": {},
   "outputs": [
    {
     "data": {
      "text/latex": [
       "$\\displaystyle 3.0 H^{2} = 8 \\pi G \\rho$"
      ],
      "text/plain": [
       "Eq(3.0*H**2, 8*pi*G*\\rho)"
      ]
     },
     "execution_count": 59,
     "metadata": {},
     "output_type": "execute_result"
    }
   ],
   "source": [
    "einst_eq.subs(G_00, G_00s).subs(T_00, rho)"
   ]
  },
  {
   "cell_type": "code",
   "execution_count": null,
   "id": "05c98193",
   "metadata": {},
   "outputs": [],
   "source": []
  }
 ],
 "metadata": {
  "kernelspec": {
   "display_name": "Python 3",
   "language": "python",
   "name": "python3"
  },
  "language_info": {
   "codemirror_mode": {
    "name": "ipython",
    "version": 3
   },
   "file_extension": ".py",
   "mimetype": "text/x-python",
   "name": "python",
   "nbconvert_exporter": "python",
   "pygments_lexer": "ipython3",
   "version": "3.8.8"
  }
 },
 "nbformat": 4,
 "nbformat_minor": 5
}
